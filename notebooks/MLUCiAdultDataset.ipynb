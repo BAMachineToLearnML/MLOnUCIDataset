{
 "cells": [
  {
   "cell_type": "markdown",
   "metadata": {},
   "source": [
    "# UCI BikeDataset\n",
    "\n",
    "Lichman, M. (2013). UCI Machine Learning Repository [http://archive.ics.uci.edu/ml]. Irvine, CA: University of California, School of Information and Computer Science. \n",
    "\n",
    "Source:\n",
    "\n",
    "Hadi Fanaee-T\n",
    "\n",
    "Laboratory of Artificial Intelligence and Decision Support (LIAAD), University of Porto\n",
    "INESC Porto, Campus da FEUP\n",
    "Rua Dr. Roberto Frias, 378\n",
    "4200 - 465 Porto, Portugal\n",
    "\n",
    "Original Source: http://capitalbikeshare.com/system-data\n",
    "Weather Information: http://www.freemeteo.com\n",
    "Holiday Schedule: http://dchr.dc.gov/page/holiday-schedule"
   ]
  },
  {
   "cell_type": "code",
   "execution_count": 65,
   "metadata": {},
   "outputs": [
    {
     "name": "stdout",
     "output_type": "stream",
     "text": [
      "Linear Model score: 0.25346763326\n",
      "The mean of the coefficients are: [  142.31441692  1270.58329498  -432.94890326  -428.32754376]\n",
      "The standard error of the coefficients are: [ 60.00880358  56.73398608  66.27205789  58.24249268]\n",
      "Shape: (731, 4)\n",
      "Variation:\n",
      "{'hum': 1.0, 'temp': 0.99999999999999978, 'weekday': 1.0, 'windspeed': 1.0}\n",
      "[[ 0.344167  0.805833  0.160446]\n",
      " [ 0.363478  0.696087  0.248539]\n",
      " [ 0.196364  0.437273  0.248309]\n",
      " ..., \n",
      " [ 0.253333  0.752917  0.124383]\n",
      " [ 0.255833  0.483333  0.350754]\n",
      " [ 0.215833  0.5775    0.154846]]\n",
      "   weekday      temp       hum  windspeed\n",
      "0        6  0.344167  0.805833   0.160446\n",
      "1        0  0.363478  0.696087   0.248539\n"
     ]
    },
    {
     "name": "stderr",
     "output_type": "stream",
     "text": [
      "C:\\ProgramData\\Anaconda3\\lib\\site-packages\\sklearn\\utils\\validation.py:526: DataConversionWarning: A column-vector y was passed when a 1d array was expected. Please change the shape of y to (n_samples, ), for example using ravel().\n",
      "  y = column_or_1d(y, warn=True)\n"
     ]
    },
    {
     "name": "stdout",
     "output_type": "stream",
     "text": [
      "0.437314143493\n",
      "1920112.1028\n"
     ]
    }
   ],
   "source": [
    "#Load the dataset\n",
    "import pandas as pd\n",
    "import numpy as np\n",
    "from sklearn.model_selection import train_test_split\n",
    "from sklearn import preprocessing\n",
    "from sklearn import linear_model\n",
    "from sklearn.pipeline import make_pipeline\n",
    "from sklearn.metrics import mean_squared_error, r2_score\n",
    "from sklearn.model_selection import GridSearchCV\n",
    "from sklearn.ensemble import RandomForestRegressor\n",
    "from sklearn.utils import resample\n",
    "bike_df = pd.read_csv('day.csv')\n",
    "#print(bike_df.head())\n",
    "#bike_X = bike_df[['temp','atemp','hum','windspeed']]\n",
    "bike_X = bike_df[['weekday','temp','hum','windspeed']]\n",
    "bike_y = bike_df[['cnt']]\n",
    "X_train,X_test,y_train,y_test = train_test_split(bike_X,bike_y,test_size = 0.2,random_state=123)\n",
    "\n",
    "scaler = preprocessing.StandardScaler().fit(X_train)\n",
    "X_train_scaled = scaler.transform(X_train)\n",
    "X_test_scaled = scaler.transform(X_test)\n",
    "\n",
    "lmodel = linear_model.LinearRegression()\n",
    "lmodel.fit(X_train_scaled,y_train)\n",
    "print(\"Linear Model score:\",lmodel.score(X_test_scaled,y_test))\n",
    "\n",
    "#BootStrap\n",
    "from sklearn.utils import resample\n",
    "ols = linear_model.LinearRegression()\n",
    "coefs = []\n",
    "for i in range(1000):\n",
    "    x_boot, y_boot = resample(X_train_scaled, y_train)\n",
    "    ols.fit(x_boot, y_boot)\n",
    "    coefs.append(ols.coef_[0])\n",
    "    \n",
    "\n",
    "coefs = np.array(coefs)\n",
    "print(\"The mean of the coefficients are: \" + str(np.mean(coefs, 0)))\n",
    "print(\"The standard error of the coefficients are: \" + str(np.std(coefs, 0)))\n",
    "\n",
    "#Variance Check\n",
    "import pprint\n",
    "print('Shape: (%d, %d)' %bike_X.shape)\n",
    "print('Variation:')\n",
    "pprint.pprint(dict(zip(['weekday','temp','hum','windspeed'], np.var(X_train_scaled, 0))))\n",
    "\n",
    "#selectKBest\n",
    "import sklearn.feature_selection as fs\n",
    "best1 = fs.SelectKBest(fs.f_regression, k=3).fit_transform(bike_X, bike_y)\n",
    "print(best1)\n",
    "print(bike_X.head(2))\n",
    "\n",
    "pipeline = make_pipeline(preprocessing.StandardScaler(), \n",
    "                         RandomForestRegressor(n_estimators=100))\n",
    "\n",
    "hyperparameters = { 'randomforestregressor__max_features' : ['auto', 'sqrt', 'log2'],\n",
    "                  'randomforestregressor__max_depth': [None, 5, 3, 1]}\n",
    "\n",
    "clf = GridSearchCV(pipeline, hyperparameters, cv=10)\n",
    "clf.fit(X_train, y_train.values.ravel())\n",
    "\n",
    "pred = clf.predict(X_test)\n",
    "print(r2_score(y_test, pred))\n",
    "print(mean_squared_error(y_test, pred))"
   ]
  },
  {
   "cell_type": "code",
   "execution_count": 7,
   "metadata": {},
   "outputs": [
    {
     "name": "stdout",
     "output_type": "stream",
     "text": [
      "Coefficients [[  409.07908645  -514.63202997    29.22325226   112.79888456  -501.7800154\n",
      "     29.22325226  5600.92745819 -2226.9877399  -3309.9013916 ]]\n",
      "Score 0.525637463941\n",
      "Intercept [ 3199.84781977]\n"
     ]
    }
   ],
   "source": [
    "#Just use Linear Regression on the entire dataset\n",
    "# Features Used'season','holiday','weekday','workingday','weathersit','weekday','temp','hum','windspeed' \n",
    "import pandas as pd\n",
    "from sklearn import linear_model\n",
    "bike_df = pd.read_csv('day.csv')\n",
    "bike_X = bike_df[['season','holiday','weekday','workingday','weathersit','weekday','temp','hum','windspeed']]\n",
    "bike_y = bike_df[['cnt']]\n",
    "lmodel = linear_model.LinearRegression()\n",
    "#fitting the entire dataset\n",
    "lmodel.fit(bike_X,bike_y)\n",
    "print(\"Coefficients\",lmodel.coef_)\n",
    "print(\"Score\",lmodel.score(bike_X,bike_y))\n",
    "print(\"Intercept\",lmodel.intercept_)"
   ]
  },
  {
   "cell_type": "code",
   "execution_count": 3,
   "metadata": {},
   "outputs": [
    {
     "name": "stdout",
     "output_type": "stream",
     "text": [
      "Coefficients [[  4.08499267e+02  -5.15471604e+02  -2.17631740e+16   1.10777665e+02\n",
      "   -5.20597152e+02   2.17631740e+16   5.58875891e+03  -2.15651630e+03\n",
      "   -3.28063329e+03]]\n",
      "Score 0.525108312179\n",
      "Intercept [ 3234.74187119]\n"
     ]
    }
   ],
   "source": [
    "#Linear Regression with a normalize set to True\n",
    "import pandas as pd\n",
    "from sklearn import linear_model\n",
    "from sklearn import preprocessing\n",
    "bike_df = pd.read_csv('day.csv')\n",
    "bike_X = bike_df[['season','holiday','weekday','workingday','weathersit','weekday','temp','hum','windspeed']]\n",
    "bike_y = bike_df[['cnt']]\n",
    "lmodel = linear_model.LinearRegression(normalize=True)\n",
    "lmodel.fit(bike_X,bike_y)\n",
    "print(\"Coefficients\",lmodel.coef_)\n",
    "print(\"Score\",lmodel.score(bike_X,bike_y))\n",
    "print(\"Intercept\",lmodel.intercept_)"
   ]
  },
  {
   "cell_type": "code",
   "execution_count": 12,
   "metadata": {},
   "outputs": [
    {
     "name": "stdout",
     "output_type": "stream",
     "text": [
      "Coefficients [[  484.6497664   -104.21366915    40.54261733    18.88793038\n",
      "   -133.43921633    40.54261733  1016.09543448  -385.71696106\n",
      "   -339.15851857]]\n",
      "Score 0.490797346444\n",
      "Intercept [ 4508.80368098]\n"
     ]
    }
   ],
   "source": [
    "#Linear Regression with train test split\n",
    "import pandas as pd\n",
    "from sklearn import linear_model\n",
    "from sklearn import preprocessing\n",
    "from sklearn.model_selection import train_test_split\n",
    "bike_df = pd.read_csv('day.csv')\n",
    "bike_X = bike_df[['season','holiday','weekday','workingday','weathersit','weekday','temp','hum','windspeed']]\n",
    "bike_y = bike_df[['cnt']]\n",
    "lmodel = linear_model.LinearRegression()\n",
    "X_train,X_test,y_train,y_test = train_test_split(bike_X,bike_y,test_size = 0.33,random_state=0)\n",
    "\n",
    "scaler = preprocessing.StandardScaler().fit(X_train)\n",
    "X_train_scaled = scaler.transform(X_train)\n",
    "X_test_scaled = scaler.transform(X_test)\n",
    "\n",
    "lmodel = linear_model.LinearRegression()\n",
    "lmodel.fit(X_train_scaled,y_train)\n",
    "print(\"Coefficients\",lmodel.coef_)\n",
    "print(\"Score\",lmodel.score(X_test_scaled,y_test))\n",
    "print(\"Intercept\",lmodel.intercept_)"
   ]
  },
  {
   "cell_type": "code",
   "execution_count": 19,
   "metadata": {},
   "outputs": [
    {
     "name": "stdout",
     "output_type": "stream",
     "text": [
      "Scores: [-18.02130518 -42.56843178  -3.8840055   -5.36171028 -18.26445499\n",
      " -20.0016797   -5.2278593  -12.53661785  -4.13083161  -3.88112967\n",
      " -15.93690418  -2.00233862  -1.89383714   0.1966595   -0.34919928\n",
      "   0.7882722   -0.78118193   0.67995471  -8.88690346  -7.56028039\n",
      "  -3.74086913  -7.08084566 -17.42488714  -5.52936384  -6.853751\n",
      " -37.62558403 -43.1653186  -28.43929519  -9.55721581  -0.69413986\n",
      "  -2.45493091  -0.17935727  -2.49579596  -0.57098519  -0.35786104\n",
      "  -2.77182844  -0.45803794  -0.48656548   0.23654649 -23.94441299\n",
      "  -2.02510945  -1.6862533   -5.694404    -6.3403372   -1.05245032\n",
      "  -2.44035334  -0.69715595  -1.48496996   0.75447907   0.09460869\n",
      "   0.07576926  -5.06694128  -0.3042306    0.40507712  -0.35765624\n",
      "  -0.11554943   0.5542764   -6.47675308  -5.290414    -1.32294941\n",
      " -27.40759062  -6.6334667   -3.48022359   0.47823174  -3.0325679\n",
      " -35.83558105  -0.2554945   -1.04571285  -5.55675661  -1.25095377\n",
      " -19.36310274  -1.86708057  -1.59205666  -1.42245295  -1.95761405\n",
      "  -1.66740119  -0.42078148  -1.90032207  -1.43087781  -1.79308461\n",
      "  -0.23224569  -0.84356819  -0.25855009  -4.29180926 -15.50492419\n",
      "  -1.55842298 -11.6088262   -0.09633268  -9.6446993   -5.65440718\n",
      "   0.31414988   0.20457772  -5.3546525   -3.02068855  -0.12190264\n",
      "  -1.4633465   -0.70105658  -2.07516159   0.66344588   0.53856104]\n",
      "Score mean: -5.798343500448629\n",
      "Score std deviation: 9.31458511572595\n"
     ]
    }
   ],
   "source": [
    "#Cross Validation Score\n",
    "import pandas as pd\n",
    "from sklearn import linear_model\n",
    "from sklearn import model_selection as ms\n",
    "lmodel = linear_model.LinearRegression()\n",
    "bike_df = pd.read_csv('day.csv')\n",
    "bike_X = bike_df[['season','holiday','weekday','workingday','weathersit','weekday','temp','hum','windspeed']]\n",
    "bike_y = bike_df[['cnt']]\n",
    "scores = ms.cross_val_score(estimator=lmodel, X=bike_X, y=bike_y,cv=100)\n",
    "\n",
    "print('Scores: {}'.format(scores))\n",
    "print('Score mean: {}'.format(scores.mean()))\n",
    "print('Score std deviation: {}'.format(scores.std()))\n"
   ]
  },
  {
   "cell_type": "code",
   "execution_count": 24,
   "metadata": {},
   "outputs": [
    {
     "name": "stdout",
     "output_type": "stream",
     "text": [
      "The mean of the coefficients are: [  4.12800166e+02  -5.06731165e+02  -1.38199773e+14   1.13280398e+02\n",
      "  -4.88509042e+02   1.38199773e+14   5.59438378e+03  -2.27831639e+03\n",
      "  -3.30813659e+03]\n",
      "The standard error of the coefficients are: [  4.73959858e+01   3.10650384e+02   2.36681141e+16   1.16369606e+02\n",
      "   1.28965378e+02   2.36681141e+16   2.96899970e+02   5.37815113e+02\n",
      "   6.90508727e+02]\n",
      "Coefficients with Entire dataset:  [[  409.07908645  -514.63202997    29.22325226   112.79888456  -501.7800154\n",
      "     29.22325226  5600.92745819 -2226.9877399  -3309.9013916 ]]\n",
      "Bootstrap estimates:  [  4.12800166e+02  -5.06731165e+02  -1.38199773e+14   1.13280398e+02\n",
      "  -4.88509042e+02   1.38199773e+14   5.59438378e+03  -2.27831639e+03\n",
      "  -3.30813659e+03]\n",
      "score 0.525637463941\n"
     ]
    }
   ],
   "source": [
    "#BootStrap\n",
    "import pandas as pd\n",
    "import numpy as np\n",
    "from sklearn import linear_model\n",
    "from sklearn import model_selection as ms\n",
    "lmodel = linear_model.LinearRegression()\n",
    "bike_df = pd.read_csv('day.csv')\n",
    "bike_X = bike_df[['season','holiday','weekday','workingday','weathersit','weekday','temp','hum','windspeed']]\n",
    "bike_y = bike_df[['cnt']]\n",
    "from sklearn import linear_model\n",
    "ols = linear_model.LinearRegression()\n",
    "\n",
    "from sklearn.utils import resample\n",
    "coefs = []\n",
    "for i in range(1000):\n",
    "    x_boot, y_boot = resample(bike_X,bike_y)\n",
    "    ols.fit(x_boot, y_boot)\n",
    "    coefs.append(ols.coef_[0])\n",
    "\n",
    "coefs = np.array(coefs)\n",
    "print(\"The mean of the coefficients are: \" + str(np.mean(coefs, 0)))\n",
    "print(\"The standard error of the coefficients are: \" + str(np.std(coefs, 0)))\n",
    "ols.fit(bike_X,bike_y)\n",
    "print(\"Coefficients with Entire dataset: \", ols.coef_)\n",
    "print(\"Bootstrap estimates: \", np.mean(coefs, 0))\n",
    "print(\"score\",ols.score(bike_X,bike_y))"
   ]
  },
  {
   "cell_type": "code",
   "execution_count": 25,
   "metadata": {},
   "outputs": [
    {
     "name": "stdout",
     "output_type": "stream",
     "text": [
      "Shape: (731, 9)\n",
      "Variation:\n",
      "{'holiday': 0.027902485398447901,\n",
      " 'hum': 0.020258296051448844,\n",
      " 'season': 1.2322044460580086,\n",
      " 'temp': 0.033461829055414519,\n",
      " 'weathersit': 0.2965036744822282,\n",
      " 'weekday': 4.0136724049846553,\n",
      " 'windspeed': 0.0059977039274154778,\n",
      " 'workingday': 0.21614601364994582}\n"
     ]
    }
   ],
   "source": [
    "#Feature Selection\n",
    "#Variance Calculation\n",
    "import pandas as pd\n",
    "import numpy as np\n",
    "import pprint\n",
    "bike_df = pd.read_csv('day.csv')\n",
    "bike_X = bike_df[['season','holiday','weekday','workingday','weathersit','weekday','temp','hum','windspeed']]\n",
    "bike_y = bike_df[['cnt']]\n",
    "print('Shape: (%d, %d)' %bike_X.shape)\n",
    "print('Variation:')\n",
    "pprint.pprint(dict(zip(['season','holiday','weekday','workingday','weathersit','weekday','temp','hum','windspeed'], np.var(bike_X, 0))))"
   ]
  },
  {
   "cell_type": "code",
   "execution_count": 32,
   "metadata": {},
   "outputs": [
    {
     "name": "stdout",
     "output_type": "stream",
     "text": [
      "(731, 6)\n",
      "chi2 6 model score 0.271998141307\n"
     ]
    }
   ],
   "source": [
    "#Feature Selection\n",
    "#chi2 \n",
    "import pandas as pd\n",
    "import numpy as np\n",
    "import sklearn.feature_selection as fs\n",
    "from sklearn import linear_model\n",
    "bike_df = pd.read_csv('day.csv')\n",
    "bike_X = bike_df[['season','holiday','weekday','workingday','weathersit','weekday','temp','hum','windspeed']]\n",
    "bike_y = bike_df[['cnt']]\n",
    "best6 = fs.SelectKBest(fs.chi2, k=6).fit_transform(bike_X,bike_y)\n",
    "print(best6.shape)\n",
    "lmodel = linear_model.LinearRegression()\n",
    "lmodel.fit(best6,bike_y)\n",
    "print(\"chi2 6 model score\",lmodel.score(best6,bike_y))"
   ]
  },
  {
   "cell_type": "code",
   "execution_count": 45,
   "metadata": {},
   "outputs": [
    {
     "name": "stdout",
     "output_type": "stream",
     "text": [
      "(731, 8)\n",
      "f_regression 7 model score 0.524955563803\n"
     ]
    }
   ],
   "source": [
    "#Feature Selection \n",
    "#f_regression\n",
    "import pandas as pd\n",
    "import numpy as np\n",
    "import sklearn.feature_selection as fs\n",
    "from sklearn import linear_model\n",
    "bike_df = pd.read_csv('day.csv')\n",
    "bike_X = bike_df[['season','holiday','weekday','workingday','weathersit','weekday','temp','hum','windspeed']]\n",
    "bike_y = bike_df[['cnt']]\n",
    "best8 = fs.SelectKBest(fs.f_regression, k=8).fit_transform(bike_X,bike_y.values.ravel())\n",
    "print(best8.shape)\n",
    "lmodel = linear_model.LinearRegression()\n",
    "lmodel.fit(best8,bike_y)\n",
    "print(\"f_regression 7 model score\",lmodel.score(best8,bike_y))"
   ]
  },
  {
   "cell_type": "code",
   "execution_count": 52,
   "metadata": {},
   "outputs": [
    {
     "name": "stdout",
     "output_type": "stream",
     "text": [
      "Coefficients: [[  409.09723196  -514.60958458    29.22440423   112.81135374\n",
      "   -501.87625185    29.22440422  5600.63976424 -2226.46956137\n",
      "  -3308.93079923]]\n",
      "Intercept: [ 3199.55299584]\n",
      "The determination of ridge regression is: 0.5256\n"
     ]
    }
   ],
   "source": [
    "#Regularization\n",
    "#Ridge\n",
    "import pandas as pd\n",
    "import numpy as np\n",
    "from sklearn import linear_model\n",
    "bike_df = pd.read_csv('day.csv')\n",
    "bike_X = bike_df[['season','holiday','weekday','workingday','weathersit','weekday','temp','hum','windspeed']]\n",
    "bike_y = bike_df[['cnt']]\n",
    "ridge = linear_model.Ridge(alpha=.001)\n",
    "ridge.fit(bike_X,bike_y)\n",
    "#print coefficients\n",
    "print(\"Coefficients:\",ridge.coef_) \n",
    "print(\"Intercept:\",ridge.intercept_)\n",
    "print(\"The determination of ridge regression is: %.4f\" %ridge.score(bike_X,bike_y))"
   ]
  },
  {
   "cell_type": "code",
   "execution_count": 53,
   "metadata": {},
   "outputs": [
    {
     "name": "stdout",
     "output_type": "stream",
     "text": [
      "Coefficients: [  4.09080740e+02  -5.14597279e+02   5.51439958e+01   1.12799375e+02\n",
      "  -5.01800213e+02   3.30310208e+00   5.60088946e+03  -2.22685772e+03\n",
      "  -3.30967905e+03]\n",
      "Intercept: [ 3199.76359248]\n",
      "The determination of ridge regression is: 0.5256\n"
     ]
    }
   ],
   "source": [
    "#Regularization\n",
    "#Lasso\n",
    "import pandas as pd\n",
    "import numpy as np\n",
    "from sklearn import linear_model\n",
    "bike_df = pd.read_csv('day.csv')\n",
    "bike_X = bike_df[['season','holiday','weekday','workingday','weathersit','weekday','temp','hum','windspeed']]\n",
    "bike_y = bike_df[['cnt']]\n",
    "lasso = linear_model.Lasso(alpha=.001)\n",
    "lasso.fit(bike_X,bike_y)\n",
    "#print coefficients\n",
    "print(\"Coefficients:\",lasso.coef_) \n",
    "print(\"Intercept:\",lasso.intercept_)\n",
    "print(\"The determination of Lasso regression is: %.4f\" %lasso.score(bike_X,bike_y))"
   ]
  },
  {
   "cell_type": "code",
   "execution_count": 55,
   "metadata": {},
   "outputs": [
    {
     "name": "stdout",
     "output_type": "stream",
     "text": [
      "Coefficients: [ 493.03314207  -34.00502298   32.23960262   74.29812715 -396.35529532\n",
      "   31.95814664  343.37653494  -49.05760396  -46.93853084]\n",
      "Intercept: [ 3453.88642332]\n",
      "The determination of ElasticNet regression is: 0.2460\n"
     ]
    }
   ],
   "source": [
    "#Regularization\n",
    "#ElasticNet\n",
    "import pandas as pd\n",
    "import numpy as np\n",
    "from sklearn import linear_model\n",
    "bike_df = pd.read_csv('day.csv')\n",
    "bike_X = bike_df[['season','holiday','weekday','workingday','weathersit','weekday','temp','hum','windspeed']]\n",
    "bike_y = bike_df[['cnt']]\n",
    "elastic = linear_model.ElasticNet(alpha = 1, l1_ratio = 0.5)\n",
    "elastic.fit(bike_X,bike_y)\n",
    "#print coefficients\n",
    "print(\"Coefficients:\",elastic.coef_) \n",
    "print(\"Intercept:\",elastic.intercept_)\n",
    "print(\"The determination of ElasticNet regression is: %.4f\" %elastic.score(bike_X,bike_y))"
   ]
  },
  {
   "cell_type": "code",
   "execution_count": 59,
   "metadata": {},
   "outputs": [
    {
     "name": "stdout",
     "output_type": "stream",
     "text": [
      "GridSearchCV(cv=None, error_score='raise',\n",
      "       estimator=Ridge(alpha=1.0, copy_X=True, fit_intercept=True, max_iter=None,\n",
      "   normalize=False, random_state=None, solver='auto', tol=0.001),\n",
      "       fit_params={}, iid=True, n_jobs=1,\n",
      "       param_grid={'alpha': array([  1.00000e+00,   1.00000e-01,   1.00000e-02,   1.00000e-03,\n",
      "         1.00000e-04,   0.00000e+00])},\n",
      "       pre_dispatch='2*n_jobs', refit=True, return_train_score=True,\n",
      "       scoring=None, verbose=0)\n",
      "-0.669449305887\n",
      "0.525637463941\n"
     ]
    },
    {
     "name": "stderr",
     "output_type": "stream",
     "text": [
      "C:\\ProgramData\\Anaconda3\\lib\\site-packages\\scipy\\linalg\\basic.py:223: RuntimeWarning: scipy.linalg.solve\n",
      "Ill-conditioned matrix detected. Result is not guaranteed to be accurate.\n",
      "Reciprocal condition number: 5.134829142128534e-35\n",
      "  ' condition number: {}'.format(rcond), RuntimeWarning)\n",
      "C:\\ProgramData\\Anaconda3\\lib\\site-packages\\scipy\\linalg\\basic.py:223: RuntimeWarning: scipy.linalg.solve\n",
      "Ill-conditioned matrix detected. Result is not guaranteed to be accurate.\n",
      "Reciprocal condition number: 4.5257423090005406e-17\n",
      "  ' condition number: {}'.format(rcond), RuntimeWarning)\n",
      "C:\\ProgramData\\Anaconda3\\lib\\site-packages\\scipy\\linalg\\basic.py:223: RuntimeWarning: scipy.linalg.solve\n",
      "Ill-conditioned matrix detected. Result is not guaranteed to be accurate.\n",
      "Reciprocal condition number: 6.239990141881245e-36\n",
      "  ' condition number: {}'.format(rcond), RuntimeWarning)\n",
      "C:\\ProgramData\\Anaconda3\\lib\\site-packages\\scipy\\linalg\\basic.py:223: RuntimeWarning: scipy.linalg.solve\n",
      "Ill-conditioned matrix detected. Result is not guaranteed to be accurate.\n",
      "Reciprocal condition number: 1.446264090564664e-17\n",
      "  ' condition number: {}'.format(rcond), RuntimeWarning)\n"
     ]
    }
   ],
   "source": [
    "#GridSearchCV\n",
    "#Regularization\n",
    "#ElasticNet\n",
    "import pandas as pd\n",
    "import numpy as np\n",
    "from sklearn import linear_model\n",
    "from sklearn import neighbors\n",
    "from sklearn.model_selection import GridSearchCV\n",
    "knn = neighbors.KNeighborsClassifier()\n",
    "bike_df = pd.read_csv('day.csv')\n",
    "bike_X = bike_df[['season','holiday','weekday','workingday','weathersit','weekday','temp','hum','windspeed']]\n",
    "bike_y = bike_df[['cnt']]\n",
    "alphas = np.array([1,0.1,0.01,0.001,0.0001,0])\n",
    "model = linear_model.Ridge()\n",
    "grid = GridSearchCV(estimator=model, param_grid=dict(alpha=alphas))\n",
    "grid.fit(bike_X,bike_y)\n",
    "print(grid)\n",
    "# summarize the results of the grid search\n",
    "print(grid.best_score_)\n",
    "print(grid.best_estimator_.score(bike_X,bike_y))"
   ]
  },
  {
   "cell_type": "code",
   "execution_count": 61,
   "metadata": {},
   "outputs": [
    {
     "name": "stdout",
     "output_type": "stream",
     "text": [
      "PCA Score 0.525637463941\n"
     ]
    }
   ],
   "source": [
    "#PCA\n",
    "from sklearn.decomposition import PCA\n",
    "pca = PCA()\n",
    "import pandas as pd\n",
    "import numpy as np\n",
    "from sklearn import linear_model\n",
    "bike_df = pd.read_csv('day.csv')\n",
    "bike_X = bike_df[['season','holiday','weekday','workingday','weathersit','weekday','temp','hum','windspeed']]\n",
    "bike_y = bike_df[['cnt']]\n",
    "pca.set_params(n_components=8)\n",
    "pca.fit(bike_X)\n",
    "pca.explained_variance_ratio_\n",
    "bike_X2= pca.transform(bike_X)\n",
    "lmodel = linear_model.LinearRegression()\n",
    "lmodel.fit(bike_X2,bike_y)\n",
    "print(\"PCA Score\",lmodel.score(bike_X2,bike_y))\n"
   ]
  },
  {
   "cell_type": "code",
   "execution_count": null,
   "metadata": {
    "collapsed": true
   },
   "outputs": [],
   "source": []
  }
 ],
 "metadata": {
  "kernelspec": {
   "display_name": "Python 3",
   "language": "python",
   "name": "python3"
  },
  "language_info": {
   "codemirror_mode": {
    "name": "ipython",
    "version": 3
   },
   "file_extension": ".py",
   "mimetype": "text/x-python",
   "name": "python",
   "nbconvert_exporter": "python",
   "pygments_lexer": "ipython3",
   "version": "3.6.1"
  }
 },
 "nbformat": 4,
 "nbformat_minor": 2
}
