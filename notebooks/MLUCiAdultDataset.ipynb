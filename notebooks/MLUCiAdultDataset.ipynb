{
 "cells": [
  {
   "cell_type": "markdown",
   "metadata": {},
   "source": [
    "# UCI Adult Dataset\n",
    "\n",
    "Courtsey\n",
    "Lichman, M. (2013). UCI Machine Learning Repository [http://archive.ics.uci.edu/ml]. Irvine, CA: University of California, School of Information and Computer Science.\n",
    "\n",
    "Source:\n",
    "\n",
    "Donor: \n",
    "\n",
    "Ronny Kohavi and Barry Becker \n",
    "Data Mining and Visualization \n",
    "Silicon Graphics. \n",
    "e-mail: ronnyk '@' live.com for questions. \n",
    "\n"
   ]
  },
  {
   "cell_type": "markdown",
   "metadata": {},
   "source": [
    "#### Dataset Description\n",
    "\n",
    "Attribute Information:\n",
    "Listing of attributes: \n",
    "\n",
    ">50K, <=50K. \n",
    "\n",
    "age: continuous. \n",
    "workclass: Private, Self-emp-not-inc, Self-emp-inc, Federal-gov, Local-gov, State-gov, Without-pay, Never-worked. \n",
    "fnlwgt: continuous. \n",
    "education: Bachelors, Some-college, 11th, HS-grad, Prof-school, Assoc-acdm, Assoc-voc, 9th, 7th-8th, 12th, Masters, 1st-4th, 10th, Doctorate, 5th-6th, Preschool. \n",
    "education-num: continuous. \n",
    "marital-status: Married-civ-spouse, Divorced, Never-married, Separated, Widowed, Married-spouse-absent, Married-AF-spouse. \n",
    "occupation: Tech-support, Craft-repair, Other-service, Sales, Exec-managerial, Prof-specialty, Handlers-cleaners, Machine-op-inspct, Adm-clerical, Farming-fishing, Transport-moving, Priv-house-serv, Protective-serv, Armed-Forces. \n",
    "relationship: Wife, Own-child, Husband, Not-in-family, Other-relative, Unmarried. \n",
    "race: White, Asian-Pac-Islander, Amer-Indian-Eskimo, Other, Black. \n",
    "sex: Female, Male. \n",
    "capital-gain: continuous. \n",
    "capital-loss: continuous. \n",
    "hours-per-week: continuous. \n",
    "native-country: United-States, Cambodia, England, Puerto-Rico, Canada, Germany, Outlying-US(Guam-USVI-etc), India, Japan, Greece, South, China, Cuba, Iran, Honduras, Philippines, Italy, Poland, Jamaica, Vietnam, Mexico, Portugal, Ireland, France, Dominican-Republic, Laos, Ecuador, Taiwan, Haiti, Columbia, Hungary, Guatemala, Nicaragua, Scotland, Thailand, Yugoslavia, El-Salvador, Trinadad&Tobago, Peru, Hong, Holand-Netherlands."
   ]
  },
  {
   "cell_type": "code",
   "execution_count": 1,
   "metadata": {},
   "outputs": [
    {
     "name": "stdout",
     "output_type": "stream",
     "text": [
      "Dataframe dimension: (32561, 15)\n",
      "Datatypes : age                int64\n",
      "workclass         object\n",
      "fnlwgt             int64\n",
      "education         object\n",
      "education-num      int64\n",
      "marital-status    object\n",
      "occupation        object\n",
      "relationship      object\n",
      "race              object\n",
      "sex               object\n",
      "capital-gain       int64\n",
      "capital-loss       int64\n",
      "hours-per-week     int64\n",
      "native-country    object\n",
      "salary            object\n",
      "dtype: object\n"
     ]
    },
    {
     "data": {
      "text/html": [
       "<div>\n",
       "<style>\n",
       "    .dataframe thead tr:only-child th {\n",
       "        text-align: right;\n",
       "    }\n",
       "\n",
       "    .dataframe thead th {\n",
       "        text-align: left;\n",
       "    }\n",
       "\n",
       "    .dataframe tbody tr th {\n",
       "        vertical-align: top;\n",
       "    }\n",
       "</style>\n",
       "<table border=\"1\" class=\"dataframe\">\n",
       "  <thead>\n",
       "    <tr style=\"text-align: right;\">\n",
       "      <th></th>\n",
       "      <th>age</th>\n",
       "      <th>workclass</th>\n",
       "      <th>fnlwgt</th>\n",
       "      <th>education</th>\n",
       "      <th>education-num</th>\n",
       "      <th>marital-status</th>\n",
       "      <th>occupation</th>\n",
       "      <th>relationship</th>\n",
       "      <th>race</th>\n",
       "      <th>sex</th>\n",
       "      <th>capital-gain</th>\n",
       "      <th>capital-loss</th>\n",
       "      <th>hours-per-week</th>\n",
       "      <th>native-country</th>\n",
       "      <th>salary</th>\n",
       "    </tr>\n",
       "  </thead>\n",
       "  <tbody>\n",
       "    <tr>\n",
       "      <th>0</th>\n",
       "      <td>39</td>\n",
       "      <td>State-gov</td>\n",
       "      <td>77516</td>\n",
       "      <td>Bachelors</td>\n",
       "      <td>13</td>\n",
       "      <td>Never-married</td>\n",
       "      <td>Adm-clerical</td>\n",
       "      <td>Not-in-family</td>\n",
       "      <td>White</td>\n",
       "      <td>Male</td>\n",
       "      <td>2174</td>\n",
       "      <td>0</td>\n",
       "      <td>40</td>\n",
       "      <td>United-States</td>\n",
       "      <td>&lt;=50K</td>\n",
       "    </tr>\n",
       "    <tr>\n",
       "      <th>1</th>\n",
       "      <td>50</td>\n",
       "      <td>Self-emp-not-inc</td>\n",
       "      <td>83311</td>\n",
       "      <td>Bachelors</td>\n",
       "      <td>13</td>\n",
       "      <td>Married-civ-spouse</td>\n",
       "      <td>Exec-managerial</td>\n",
       "      <td>Husband</td>\n",
       "      <td>White</td>\n",
       "      <td>Male</td>\n",
       "      <td>0</td>\n",
       "      <td>0</td>\n",
       "      <td>13</td>\n",
       "      <td>United-States</td>\n",
       "      <td>&lt;=50K</td>\n",
       "    </tr>\n",
       "    <tr>\n",
       "      <th>2</th>\n",
       "      <td>38</td>\n",
       "      <td>Private</td>\n",
       "      <td>215646</td>\n",
       "      <td>HS-grad</td>\n",
       "      <td>9</td>\n",
       "      <td>Divorced</td>\n",
       "      <td>Handlers-cleaners</td>\n",
       "      <td>Not-in-family</td>\n",
       "      <td>White</td>\n",
       "      <td>Male</td>\n",
       "      <td>0</td>\n",
       "      <td>0</td>\n",
       "      <td>40</td>\n",
       "      <td>United-States</td>\n",
       "      <td>&lt;=50K</td>\n",
       "    </tr>\n",
       "    <tr>\n",
       "      <th>3</th>\n",
       "      <td>53</td>\n",
       "      <td>Private</td>\n",
       "      <td>234721</td>\n",
       "      <td>11th</td>\n",
       "      <td>7</td>\n",
       "      <td>Married-civ-spouse</td>\n",
       "      <td>Handlers-cleaners</td>\n",
       "      <td>Husband</td>\n",
       "      <td>Black</td>\n",
       "      <td>Male</td>\n",
       "      <td>0</td>\n",
       "      <td>0</td>\n",
       "      <td>40</td>\n",
       "      <td>United-States</td>\n",
       "      <td>&lt;=50K</td>\n",
       "    </tr>\n",
       "    <tr>\n",
       "      <th>4</th>\n",
       "      <td>28</td>\n",
       "      <td>Private</td>\n",
       "      <td>338409</td>\n",
       "      <td>Bachelors</td>\n",
       "      <td>13</td>\n",
       "      <td>Married-civ-spouse</td>\n",
       "      <td>Prof-specialty</td>\n",
       "      <td>Wife</td>\n",
       "      <td>Black</td>\n",
       "      <td>Female</td>\n",
       "      <td>0</td>\n",
       "      <td>0</td>\n",
       "      <td>40</td>\n",
       "      <td>Cuba</td>\n",
       "      <td>&lt;=50K</td>\n",
       "    </tr>\n",
       "  </tbody>\n",
       "</table>\n",
       "</div>"
      ],
      "text/plain": [
       "   age          workclass  fnlwgt   education  education-num  \\\n",
       "0   39          State-gov   77516   Bachelors             13   \n",
       "1   50   Self-emp-not-inc   83311   Bachelors             13   \n",
       "2   38            Private  215646     HS-grad              9   \n",
       "3   53            Private  234721        11th              7   \n",
       "4   28            Private  338409   Bachelors             13   \n",
       "\n",
       "        marital-status          occupation    relationship    race      sex  \\\n",
       "0        Never-married        Adm-clerical   Not-in-family   White     Male   \n",
       "1   Married-civ-spouse     Exec-managerial         Husband   White     Male   \n",
       "2             Divorced   Handlers-cleaners   Not-in-family   White     Male   \n",
       "3   Married-civ-spouse   Handlers-cleaners         Husband   Black     Male   \n",
       "4   Married-civ-spouse      Prof-specialty            Wife   Black   Female   \n",
       "\n",
       "   capital-gain  capital-loss  hours-per-week  native-country  salary  \n",
       "0          2174             0              40   United-States   <=50K  \n",
       "1             0             0              13   United-States   <=50K  \n",
       "2             0             0              40   United-States   <=50K  \n",
       "3             0             0              40   United-States   <=50K  \n",
       "4             0             0              40            Cuba   <=50K  "
      ]
     },
     "execution_count": 1,
     "metadata": {},
     "output_type": "execute_result"
    }
   ],
   "source": [
    "import pandas as pd\n",
    "adult = pd.read_excel('adult.xlsx')\n",
    "print(\"Dataframe dimension:\",adult.shape)\n",
    "print(\"Datatypes :\",adult.dtypes)\n",
    "adult.head()"
   ]
  },
  {
   "cell_type": "markdown",
   "metadata": {},
   "source": [
    "##### Data Descrption and changes made to the dataset\n",
    "I have used Pandas to load the data into a dataframe\n",
    "\n",
    "As can be seen above this data is highly categorical. I will be converting the types to category type and then use pandas cat codes to generate codes for them add additional columns to the existing \"adult\" dataframe. Then I will be using them to create the Model.\n"
   ]
  },
  {
   "cell_type": "code",
   "execution_count": 23,
   "metadata": {
    "collapsed": true
   },
   "outputs": [],
   "source": [
    "#Load the dataset\n",
    "#Downloaded excel adult dataset\n",
    "import pandas as pd\n",
    "adult = pd.read_excel('C:/Users/bparhy/Docs/WorkDoc/NYCDataScienceWithPython/LosVegasStripProject/adult.xlsx')\n",
    "adult.dtypes\n",
    "adult.head()\n",
    "#Encoding\n",
    "#can check other types here\n",
    "adult['salary'] = adult['salary'].astype('category')\n",
    "adult[\"workclass\"] = adult[\"workclass\"].astype('category')\n",
    "adult[\"education\"] = adult[\"education\"].astype('category')\n",
    "adult[\"marital-status\"] = adult[\"marital-status\"].astype('category')\n",
    "adult[\"occupation\"] = adult[\"occupation\"].astype('category')\n",
    "adult[\"relationship\"] = adult[\"relationship\"].astype('category')\n",
    "adult[\"race\"] = adult[\"race\"].astype('category')\n",
    "adult[\"sex\"] = adult[\"sex\"].astype('category')\n",
    "adult[\"native-country\"] = adult[\"native-country\"].astype('category')\n",
    "adult[\"workclass_cat\"] = adult[\"workclass\"].cat.codes\n",
    "adult[\"marital-status_cat\"] = adult[\"marital-status\"].cat.codes\n",
    "adult[\"occupation_cat\"] = adult[\"occupation\"].cat.codes\n",
    "adult[\"relationship_cat\"] = adult[\"relationship\"].cat.codes\n",
    "adult[\"race_cat\"] = adult[\"race\"].cat.codes\n",
    "adult[\"sex_cat\"] = adult[\"sex\"].cat.codes\n",
    "adult[\"native_country_cat\"] = adult[\"native-country\"].cat.codes\n",
    "adult[\"education_cat\"] = adult[\"education\"].cat.codes\n",
    "adult['salary_cat'] = adult['salary'].cat.codes"
   ]
  },
  {
   "cell_type": "code",
   "execution_count": 24,
   "metadata": {},
   "outputs": [
    {
     "name": "stdout",
     "output_type": "stream",
     "text": [
      "Dataframe dimension: (32561, 24)\n",
      "Datatypes : age                      int64\n",
      "workclass             category\n",
      "fnlwgt                   int64\n",
      "education             category\n",
      "education-num            int64\n",
      "marital-status        category\n",
      "occupation            category\n",
      "relationship          category\n",
      "race                  category\n",
      "sex                   category\n",
      "capital-gain             int64\n",
      "capital-loss             int64\n",
      "hours-per-week           int64\n",
      "native-country        category\n",
      "salary                category\n",
      "workclass_cat             int8\n",
      "marital-status_cat        int8\n",
      "occupation_cat            int8\n",
      "relationship_cat          int8\n",
      "race_cat                  int8\n",
      "sex_cat                   int8\n",
      "native_country_cat        int8\n",
      "education_cat             int8\n",
      "salary_cat                int8\n",
      "dtype: object\n"
     ]
    },
    {
     "data": {
      "text/html": [
       "<div>\n",
       "<style>\n",
       "    .dataframe thead tr:only-child th {\n",
       "        text-align: right;\n",
       "    }\n",
       "\n",
       "    .dataframe thead th {\n",
       "        text-align: left;\n",
       "    }\n",
       "\n",
       "    .dataframe tbody tr th {\n",
       "        vertical-align: top;\n",
       "    }\n",
       "</style>\n",
       "<table border=\"1\" class=\"dataframe\">\n",
       "  <thead>\n",
       "    <tr style=\"text-align: right;\">\n",
       "      <th></th>\n",
       "      <th>age</th>\n",
       "      <th>workclass_cat</th>\n",
       "      <th>education_cat</th>\n",
       "      <th>education-num</th>\n",
       "      <th>marital-status_cat</th>\n",
       "      <th>occupation_cat</th>\n",
       "      <th>relationship_cat</th>\n",
       "      <th>race_cat</th>\n",
       "      <th>sex_cat</th>\n",
       "      <th>native_country_cat</th>\n",
       "    </tr>\n",
       "  </thead>\n",
       "  <tbody>\n",
       "    <tr>\n",
       "      <th>0</th>\n",
       "      <td>39</td>\n",
       "      <td>7</td>\n",
       "      <td>9</td>\n",
       "      <td>13</td>\n",
       "      <td>4</td>\n",
       "      <td>1</td>\n",
       "      <td>1</td>\n",
       "      <td>4</td>\n",
       "      <td>1</td>\n",
       "      <td>39</td>\n",
       "    </tr>\n",
       "    <tr>\n",
       "      <th>1</th>\n",
       "      <td>50</td>\n",
       "      <td>6</td>\n",
       "      <td>9</td>\n",
       "      <td>13</td>\n",
       "      <td>2</td>\n",
       "      <td>4</td>\n",
       "      <td>0</td>\n",
       "      <td>4</td>\n",
       "      <td>1</td>\n",
       "      <td>39</td>\n",
       "    </tr>\n",
       "    <tr>\n",
       "      <th>2</th>\n",
       "      <td>38</td>\n",
       "      <td>4</td>\n",
       "      <td>11</td>\n",
       "      <td>9</td>\n",
       "      <td>0</td>\n",
       "      <td>6</td>\n",
       "      <td>1</td>\n",
       "      <td>4</td>\n",
       "      <td>1</td>\n",
       "      <td>39</td>\n",
       "    </tr>\n",
       "    <tr>\n",
       "      <th>3</th>\n",
       "      <td>53</td>\n",
       "      <td>4</td>\n",
       "      <td>1</td>\n",
       "      <td>7</td>\n",
       "      <td>2</td>\n",
       "      <td>6</td>\n",
       "      <td>0</td>\n",
       "      <td>2</td>\n",
       "      <td>1</td>\n",
       "      <td>39</td>\n",
       "    </tr>\n",
       "    <tr>\n",
       "      <th>4</th>\n",
       "      <td>28</td>\n",
       "      <td>4</td>\n",
       "      <td>9</td>\n",
       "      <td>13</td>\n",
       "      <td>2</td>\n",
       "      <td>10</td>\n",
       "      <td>5</td>\n",
       "      <td>2</td>\n",
       "      <td>0</td>\n",
       "      <td>5</td>\n",
       "    </tr>\n",
       "  </tbody>\n",
       "</table>\n",
       "</div>"
      ],
      "text/plain": [
       "   age  workclass_cat  education_cat  education-num  marital-status_cat  \\\n",
       "0   39              7              9             13                   4   \n",
       "1   50              6              9             13                   2   \n",
       "2   38              4             11              9                   0   \n",
       "3   53              4              1              7                   2   \n",
       "4   28              4              9             13                   2   \n",
       "\n",
       "   occupation_cat  relationship_cat  race_cat  sex_cat  native_country_cat  \n",
       "0               1                 1         4        1                  39  \n",
       "1               4                 0         4        1                  39  \n",
       "2               6                 1         4        1                  39  \n",
       "3               6                 0         2        1                  39  \n",
       "4              10                 5         2        0                   5  "
      ]
     },
     "execution_count": 24,
     "metadata": {},
     "output_type": "execute_result"
    }
   ],
   "source": [
    "#Below are the modified datatypes and the new data values\n",
    "print(\"Dataframe dimension:\",adult.shape)\n",
    "print(\"Datatypes :\",adult.dtypes)\n",
    "adult[['age','workclass_cat','education_cat','education-num','marital-status_cat','occupation_cat','relationship_cat','race_cat','sex_cat','native_country_cat']].head()"
   ]
  },
  {
   "cell_type": "markdown",
   "metadata": {},
   "source": [
    "##### HistoGrams For the features to find the feature importances\n",
    "We will be using matplotlib to generate histograms to derive feature importances.\n",
    "\n"
   ]
  },
  {
   "cell_type": "code",
   "execution_count": 25,
   "metadata": {},
   "outputs": [
    {
     "data": {
      "image/png": "[encoded data removed]",
      "text/plain": [
       "<matplotlib.figure.Figure at 0xb770b70>"
      ]
     },
     "metadata": {},
     "output_type": "display_data"
    }
   ],
   "source": [
    "import matplotlib.pyplot as plt\n",
    "fig = plt.figure(figsize=(10,6))\n",
    "X_age = adult.age\n",
    "plt.ylabel('frequency')\n",
    "plt.xlabel('age',)\n",
    "plt.title('Histogram of age')\n",
    "X_age.hist(bins=100)\n",
    "plt.show()"
   ]
  },
  {
   "cell_type": "code",
   "execution_count": 26,
   "metadata": {},
   "outputs": [
    {
     "name": "stdout",
     "output_type": "stream",
     "text": [
      "{0: ' 10th', 1: ' 11th', 2: ' 12th', 3: ' 1st-4th', 4: ' 5th-6th', 5: ' 7th-8th', 6: ' 9th', 7: ' Assoc-acdm', 8: ' Assoc-voc', 9: ' Bachelors', 10: ' Doctorate', 11: ' HS-grad', 12: ' Masters', 13: ' Preschool', 14: ' Prof-school', 15: ' Some-college'}\n"
     ]
    },
    {
     "data": {
      "image/png": "[encoded data removed]",
      "text/plain": [
       "<matplotlib.figure.Figure at 0xc7cecc0>"
      ]
     },
     "metadata": {},
     "output_type": "display_data"
    }
   ],
   "source": [
    "import matplotlib.pyplot as plt\n",
    "fig = plt.figure(figsize=(10,6))\n",
    "X_education = adult.education_cat\n",
    "plt.ylabel('frequency')\n",
    "plt.xlabel('education',)\n",
    "plt.title('Histogram of education')\n",
    "print(dict( enumerate(adult['education'].cat.categories) ))\n",
    "#print(X_education.describe())\n",
    "X_education.hist(bins=100)\n",
    "plt.show()"
   ]
  },
  {
   "cell_type": "code",
   "execution_count": 27,
   "metadata": {},
   "outputs": [
    {
     "name": "stdout",
     "output_type": "stream",
     "text": [
      "{0: ' ?', 1: ' Adm-clerical', 2: ' Armed-Forces', 3: ' Craft-repair', 4: ' Exec-managerial', 5: ' Farming-fishing', 6: ' Handlers-cleaners', 7: ' Machine-op-inspct', 8: ' Other-service', 9: ' Priv-house-serv', 10: ' Prof-specialty', 11: ' Protective-serv', 12: ' Sales', 13: ' Tech-support', 14: ' Transport-moving'}\n"
     ]
    },
    {
     "data": {
      "image/png": "[encoded data removed]",
      "text/plain": [
       "<matplotlib.figure.Figure at 0xe238320>"
      ]
     },
     "metadata": {},
     "output_type": "display_data"
    }
   ],
   "source": [
    "import matplotlib.pyplot as plt\n",
    "fig = plt.figure(figsize=(10,6))\n",
    "X_occupation = adult.occupation_cat\n",
    "plt.ylabel('frequency')\n",
    "plt.xlabel('occupation',)\n",
    "plt.title('Histogram of occupation')\n",
    "print(dict( enumerate(adult['occupation'].cat.categories) ))\n",
    "#print(X_education.describe())\n",
    "X_occupation.hist(bins=100)\n",
    "plt.show()"
   ]
  },
  {
   "cell_type": "code",
   "execution_count": 28,
   "metadata": {},
   "outputs": [
    {
     "name": "stdout",
     "output_type": "stream",
     "text": [
      "{0: ' Amer-Indian-Eskimo', 1: ' Asian-Pac-Islander', 2: ' Black', 3: ' Other', 4: ' White'}\n"
     ]
    },
    {
     "data": {
      "image/png": "[encoded data removed]",
      "text/plain": [
       "<matplotlib.figure.Figure at 0xddebf28>"
      ]
     },
     "metadata": {},
     "output_type": "display_data"
    }
   ],
   "source": [
    "#Race Histogram\n",
    "\n",
    "import matplotlib.pyplot as plt\n",
    "fig = plt.figure(figsize=(10,6))\n",
    "X_race = adult.race_cat\n",
    "plt.ylabel('frequency')\n",
    "plt.xlabel('race',)\n",
    "plt.title('Histogram of race')\n",
    "print(dict( enumerate(adult['race'].cat.categories) ))\n",
    "#print(X_education.describe())\n",
    "X_race.hist(bins=100)\n",
    "plt.show()"
   ]
  },
  {
   "cell_type": "code",
   "execution_count": 32,
   "metadata": {},
   "outputs": [
    {
     "name": "stdout",
     "output_type": "stream",
     "text": [
      "{0: ' ?', 1: ' Cambodia', 2: ' Canada', 3: ' China', 4: ' Columbia', 5: ' Cuba', 6: ' Dominican-Republic', 7: ' Ecuador', 8: ' El-Salvador', 9: ' England', 10: ' France', 11: ' Germany', 12: ' Greece', 13: ' Guatemala', 14: ' Haiti', 15: ' Holand-Netherlands', 16: ' Honduras', 17: ' Hong', 18: ' Hungary', 19: ' India', 20: ' Iran', 21: ' Ireland', 22: ' Italy', 23: ' Jamaica', 24: ' Japan', 25: ' Laos', 26: ' Mexico', 27: ' Nicaragua', 28: ' Outlying-US(Guam-USVI-etc)', 29: ' Peru', 30: ' Philippines', 31: ' Poland', 32: ' Portugal', 33: ' Puerto-Rico', 34: ' Scotland', 35: ' South', 36: ' Taiwan', 37: ' Thailand', 38: ' Trinadad&Tobago', 39: ' United-States', 40: ' Vietnam', 41: ' Yugoslavia'}\n"
     ]
    },
    {
     "data": {
      "image/png": "[encoded data removed]",
      "text/plain": [
       "<matplotlib.figure.Figure at 0xb7cf518>"
      ]
     },
     "metadata": {},
     "output_type": "display_data"
    }
   ],
   "source": [
    "#Native Country Category\n",
    "import matplotlib.pyplot as plt\n",
    "fig = plt.figure(figsize=(10,6))\n",
    "X_native_country_cat = adult.native_country_cat\n",
    "plt.ylabel('frequency')\n",
    "plt.xlabel('native_country_cat',)\n",
    "plt.title('Histogram of native_country')\n",
    "print(dict( enumerate(adult['native-country'].cat.categories) ))\n",
    "#print(X_education.describe())\n",
    "X_native_country_cat.hist(bins=100)\n",
    "plt.show()"
   ]
  },
  {
   "cell_type": "code",
   "execution_count": 36,
   "metadata": {},
   "outputs": [
    {
     "name": "stdout",
     "output_type": "stream",
     "text": [
      "[[  3.34389598e-02  -5.99732945e-04   1.94128298e-02   3.61162987e-01\n",
      "   -2.52576980e-01   1.47209817e-02  -1.46759924e-01   9.16507022e-02\n",
      "    9.97802769e-01   3.66041768e-03]] [-7.08427885]\n",
      "Logistic Regression on test data 0.801732080339\n"
     ]
    }
   ],
   "source": [
    "#Simple Logistic Regression with All the features and with test train Split\n",
    "\n",
    "X_adult = adult[['age','workclass_cat','education_cat','education-num','marital-status_cat','occupation_cat','relationship_cat','race_cat','sex_cat','native_country_cat']]\n",
    "y_adult = adult['salary_cat']\n",
    "from sklearn import linear_model\n",
    "import sklearn.model_selection as ms\n",
    "from sklearn.cross_validation import train_test_split\n",
    "x_train, x_test, y_train, y_test = ms.train_test_split(X_adult, y_adult, \n",
    "                                                       test_size=1.0/3, random_state=0)\n",
    "logit = linear_model.LogisticRegression()\n",
    "logit.set_params(C=1e4)\n",
    "logit.fit(x_train,y_train)\n",
    "print(logit.coef_,logit.intercept_)\n",
    "print(\"Logistic Regression on test data\",logit.score(x_test,y_test)\n",
    ")"
   ]
  },
  {
   "cell_type": "code",
   "execution_count": 5,
   "metadata": {},
   "outputs": [
    {
     "name": "stdout",
     "output_type": "stream",
     "text": [
      "[[ 0.03411337  0.01069638  0.01611382  0.36278221 -0.2490377   0.01381449\n",
      "  -0.14458662  0.11477452  0.96371929  0.00377429]] [-7.20853048]\n",
      "Logistic Regression 0.801511010104\n",
      "LDA Score 0.804643592027\n",
      "QDA Score 0.773502042321\n",
      "Naive bayes 0.772304290409\n"
     ]
    }
   ],
   "source": [
    "from sklearn import discriminant_analysis\n",
    "LDA = discriminant_analysis.LinearDiscriminantAnalysis()\n",
    "LDA.fit(X_adult,y_adult)\n",
    "print(\"LDA Score\",LDA.score(X_adult,y_adult))\n",
    "\n",
    "from sklearn.discriminant_analysis import QuadraticDiscriminantAnalysis\n",
    "QDA = QuadraticDiscriminantAnalysis()\n",
    "QDA.fit(X_adult,y_adult)\n",
    "print(\"QDA Score\",QDA.score(X_adult,y_adult))\n",
    "#GNB\n",
    "from sklearn import naive_bayes\n",
    "gnb = naive_bayes.GaussianNB()\n",
    "gnb.fit(X_adult,y_adult)\n",
    "print(\"Naive bayes\",gnb.score(X_adult,y_adult))"
   ]
  },
  {
   "cell_type": "code",
   "execution_count": null,
   "metadata": {
    "collapsed": true
   },
   "outputs": [],
   "source": []
  }
 ],
 "metadata": {
  "kernelspec": {
   "display_name": "Python 3",
   "language": "python",
   "name": "python3"
  },
  "language_info": {
   "codemirror_mode": {
    "name": "ipython",
    "version": 3
   },
   "file_extension": ".py",
   "mimetype": "text/x-python",
   "name": "python",
   "nbconvert_exporter": "python",
   "pygments_lexer": "ipython3",
   "version": "3.6.1"
  }
 },
 "nbformat": 4,
 "nbformat_minor": 2
}
